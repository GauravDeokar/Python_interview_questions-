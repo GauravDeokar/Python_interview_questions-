{
 "cells": [
  {
   "cell_type": "raw",
   "id": "9e29052a",
   "metadata": {},
   "source": [
    "Que 1 :-\n",
    "You are given an integer array prices where prices[i] is the price of a given stock on the ith day.\n",
    "On each day, you may decide to buy and/or sell the stock. You can only hold at most one share of the\n",
    "stock at any time. However, you can buy it then immediately sell it on the same day.\n",
    "Find and return the maximum profit you can achieve.\n",
    "Example 1:\n",
    "Input: prices = [7,1,5,3,6,4]\n",
    "Output: 7\n",
    "Explanation: Buy on day 2 (price = 1) and sell on day 3 (price = 5), profit = 5-1 = 4.\n",
    "Then buy on day 4 (price = 3) and sell on day 5 (price = 6), profit = 6-3 = 3.\n",
    "Total profit is 4 + 3 = 7.\n",
    "Example 2:\n",
    "Input: prices = [1,2,3,4,5]\n",
    "Output: 4\n",
    "Explanation: Buy on day 1 (price = 1) and sell on day 5 (price = 5), profit = 5-1 = 4.\n",
    "Total profit is 4.\n",
    "Example 3: \n",
    "Input: prices = [7,6,4,3,1]\n",
    "Output: 0\n",
    "Explanation: There is no way to make a positive profit, so we never buy the stock to achieve the\n",
    "maximum profit of 0.\n",
    "Constraints:\n",
    "1 <= prices.length <= 3 * 104\n",
    "0 <= prices[i] <= 104"
   ]
  },
  {
   "cell_type": "code",
   "execution_count": 34,
   "id": "81ba3914",
   "metadata": {},
   "outputs": [],
   "source": [
    "def max_profit(prices):\n",
    "    max_profit=0\n",
    "    for i in range(1,len(prices)):\n",
    "        if prices[i] > prices[i-1]:\n",
    "            max_profit += prices[i] - prices[i-1] \n",
    "    return max_profit"
   ]
  },
  {
   "cell_type": "code",
   "execution_count": 42,
   "id": "c27bc369",
   "metadata": {},
   "outputs": [
    {
     "name": "stdout",
     "output_type": "stream",
     "text": [
      "8\n"
     ]
    }
   ],
   "source": [
    "prices = [7,1,5,3,6,4]\n",
    "print(max_profit(prices))"
   ]
  },
  {
   "cell_type": "code",
   "execution_count": 36,
   "id": "8de19665",
   "metadata": {},
   "outputs": [
    {
     "name": "stdout",
     "output_type": "stream",
     "text": [
      "4\n"
     ]
    }
   ],
   "source": [
    "prices = [1,2,3,4,5]\n",
    "print(max_profit(prices))"
   ]
  },
  {
   "cell_type": "code",
   "execution_count": 37,
   "id": "397b121e",
   "metadata": {},
   "outputs": [
    {
     "name": "stdout",
     "output_type": "stream",
     "text": [
      "0\n"
     ]
    }
   ],
   "source": [
    "prices = [7,6,4,3,1]\n",
    "print(max_profit(prices))"
   ]
  },
  {
   "cell_type": "code",
   "execution_count": 38,
   "id": "a56a039a",
   "metadata": {},
   "outputs": [
    {
     "name": "stdout",
     "output_type": "stream",
     "text": [
      "4\n"
     ]
    }
   ],
   "source": [
    "prices = [1,2,3,4,5]\n",
    "print(max_profit(prices))"
   ]
  },
  {
   "cell_type": "code",
   "execution_count": 32,
   "id": "48a2fb12",
   "metadata": {},
   "outputs": [
    {
     "data": {
      "text/plain": [
       "5"
      ]
     },
     "execution_count": 32,
     "metadata": {},
     "output_type": "execute_result"
    }
   ],
   "source": [
    "len(prices)"
   ]
  },
  {
   "cell_type": "code",
   "execution_count": null,
   "id": "a4d49c30",
   "metadata": {},
   "outputs": [],
   "source": []
  },
  {
   "cell_type": "raw",
   "id": "183fbf6a",
   "metadata": {},
   "source": [
    "Que-2 :-\n",
    "Given an array nums of distinct integers, return all the possible permutations. You can return the\n",
    "answer in any order.\n",
    "\n",
    "Example 1:\n",
    "Input: nums = [1,2,3]\n",
    "Output: [[1,2,3],[1,3,2],[2,1,3],[2,3,1],[3,1,2],[3,2,1]]\n",
    "Example 2:\n",
    "Input: nums = [0,1]\n",
    "Output: [[0,1],[1,0]]\n",
    "Example 3:\n",
    "Input: nums = [1]\n",
    "Output: [[1]]"
   ]
  },
  {
   "cell_type": "code",
   "execution_count": 19,
   "id": "ddc88072",
   "metadata": {},
   "outputs": [],
   "source": [
    "def permute(nums):\n",
    "#    print(\"nums=\",nums)\n",
    "#    print(\"len of num:-\",len(nums))\n",
    "    def backtrack(start):\n",
    "#        print(\"start=\", start)\n",
    "        if start == len(nums):\n",
    "            permutations.append(nums[:])  # Make a copy of the current permutation\n",
    "        for i in range(start, len(nums)):\n",
    "            nums[start], nums[i] = nums[i], nums[start]  # Swap elements\n",
    "            backtrack(start + 1)  # Recur with the next index\n",
    "            nums[start], nums[i] = nums[i], nums[start]  # Backtrack the swap\n",
    "\n",
    "    permutations = []\n",
    "#    print(permutations)\n",
    "    backtrack(0)\n",
    "    return permutations\n"
   ]
  },
  {
   "cell_type": "code",
   "execution_count": 20,
   "id": "a5dbe571",
   "metadata": {},
   "outputs": [
    {
     "name": "stdout",
     "output_type": "stream",
     "text": [
      "[[1, 2, 3], [1, 3, 2], [2, 1, 3], [2, 3, 1], [3, 2, 1], [3, 1, 2]]\n"
     ]
    }
   ],
   "source": [
    "# Example usage:\n",
    "nums = [1, 2, 3]\n",
    "print(permute(nums)) "
   ]
  },
  {
   "cell_type": "code",
   "execution_count": null,
   "id": "fc1aa510",
   "metadata": {},
   "outputs": [],
   "source": [
    "[[5, 2, 3], [5, 3, 2], [2, 5, 3], [2, 3, 5], [3, 2, 5], [3, 5, 2]]"
   ]
  },
  {
   "cell_type": "code",
   "execution_count": 73,
   "id": "c011f42f",
   "metadata": {},
   "outputs": [
    {
     "name": "stdout",
     "output_type": "stream",
     "text": [
      "nums= [0, 1]\n",
      "len of num:- 2\n",
      "[]\n",
      "start= 0\n",
      "start= 1\n",
      "start= 2\n",
      "start= 1\n",
      "start= 2\n",
      "[[0, 1], [1, 0]]\n"
     ]
    }
   ],
   "source": [
    "nums = [0,1]\n",
    "print(permute(nums))"
   ]
  },
  {
   "cell_type": "code",
   "execution_count": 9,
   "id": "bda45208",
   "metadata": {},
   "outputs": [
    {
     "name": "stdout",
     "output_type": "stream",
     "text": [
      "[[1]]\n"
     ]
    }
   ],
   "source": [
    "nums = [1]\n",
    "print(permute(nums))"
   ]
  },
  {
   "cell_type": "code",
   "execution_count": null,
   "id": "f53433a3",
   "metadata": {},
   "outputs": [],
   "source": []
  },
  {
   "cell_type": "code",
   "execution_count": null,
   "id": "9839211e",
   "metadata": {},
   "outputs": [],
   "source": []
  },
  {
   "cell_type": "raw",
   "id": "7bec7f90",
   "metadata": {},
   "source": [
    "Que 3:-\n",
    "\n",
    "Given an integer array nums, rotate the array to the right by k steps, where k is non-negative.\n",
    "…….\n",
    "Example 1:\n",
    "Input: nums = [1,2,3,4,5,6,7], k = 3\n",
    "Output: [5,6,7,1,2,3,4]\n",
    "Explanation:\n",
    "rotate 1 steps to the right: [7,1,2,3,4,5,6]\n",
    "rotate 2 steps to the right: [6,7,1,2,3,4,5]\n",
    "rotate 3 steps to the right: [5,6,7,1,2,3,4]\n",
    "Example 2:\n",
    "Input: nums = [-1,-100,3,99], k = 2\n",
    "Output: [3,99,-1,-100]\n",
    "Explanation:\n",
    "rotate 1 steps to the right: [99,-1,-100,3]\n",
    "rotate 2 steps to the right: [3,99,-1,-100]"
   ]
  },
  {
   "cell_type": "code",
   "execution_count": 2,
   "id": "ecad8610",
   "metadata": {},
   "outputs": [],
   "source": [
    "def rotate(nums, k):\n",
    "    n = len(nums)\n",
    "    k = k % n  # Calculate effective k\n",
    "    # Reverse the entire array\n",
    "    nums.reverse()\n",
    "    \n",
    "    # Reverse the first k elements\n",
    "    reverse(nums, 0, k - 1)\n",
    "    \n",
    "    # Reverse the remaining elements\n",
    "    reverse(nums, k, n - 1)\n",
    "\n",
    "def reverse(nums, start, end):\n",
    "    while start < end:\n",
    "        nums[start], nums[end] = nums[end], nums[start]\n",
    "        start += 1\n",
    "        end -= 1"
   ]
  },
  {
   "cell_type": "code",
   "execution_count": 4,
   "id": "91982e62",
   "metadata": {},
   "outputs": [
    {
     "name": "stdout",
     "output_type": "stream",
     "text": [
      "[5, 6, 7, 1, 2, 3, 4]\n"
     ]
    }
   ],
   "source": [
    "nums1 = [1, 2, 3, 4, 5, 6, 7]\n",
    "k1 = 3\n",
    "rotate(nums1, k1)\n",
    "print(nums1)  # Output: [5, 6, 7, 1, 2, 3, 4]\n",
    "\n"
   ]
  },
  {
   "cell_type": "code",
   "execution_count": 34,
   "id": "6063a571",
   "metadata": {},
   "outputs": [
    {
     "data": {
      "text/plain": [
       "3"
      ]
     },
     "execution_count": 34,
     "metadata": {},
     "output_type": "execute_result"
    }
   ],
   "source": [
    "3%7"
   ]
  },
  {
   "cell_type": "code",
   "execution_count": 78,
   "id": "cf837a49",
   "metadata": {},
   "outputs": [
    {
     "name": "stdout",
     "output_type": "stream",
     "text": [
      "[3, 99, -1, -100]\n"
     ]
    }
   ],
   "source": [
    "nums2 = [-1, -100, 3, 99]\n",
    "k2 = 2\n",
    "rotate(nums2, k2)\n",
    "print(nums2)  # Output: [3, 99, -1, -100]"
   ]
  },
  {
   "cell_type": "code",
   "execution_count": null,
   "id": "bd23fdc7",
   "metadata": {},
   "outputs": [],
   "source": []
  },
  {
   "cell_type": "code",
   "execution_count": null,
   "id": "34668bdf",
   "metadata": {},
   "outputs": [],
   "source": []
  },
  {
   "cell_type": "code",
   "execution_count": 43,
   "id": "7d47a232",
   "metadata": {},
   "outputs": [],
   "source": [
    "l=[1,2,2,22,3,4,3,4,2,8,4]\n"
   ]
  },
  {
   "cell_type": "code",
   "execution_count": 13,
   "id": "b8bda917",
   "metadata": {},
   "outputs": [
    {
     "name": "stdout",
     "output_type": "stream",
     "text": [
      "[1, 2, 22, 3, 4, 8]\n"
     ]
    }
   ],
   "source": [
    "unique=[]\n",
    "for i in l:\n",
    "    if i not in unique:\n",
    "        unique.append(i)\n",
    "print(unique)"
   ]
  },
  {
   "cell_type": "code",
   "execution_count": 10,
   "id": "bd4d2c57",
   "metadata": {},
   "outputs": [
    {
     "name": "stdout",
     "output_type": "stream",
     "text": [
      "{1: 1, 2: 3, 22: 1, 3: 2, 4: 3, 8: 1}\n"
     ]
    }
   ],
   "source": [
    "dic={}\n",
    "for i in l:\n",
    "    if i in dic:\n",
    "        dic[i] +=1\n",
    "    else:\n",
    "        dic[i] =1\n",
    "        \n",
    "print(dic)"
   ]
  },
  {
   "cell_type": "code",
   "execution_count": 16,
   "id": "5f15f708",
   "metadata": {},
   "outputs": [
    {
     "data": {
      "text/plain": [
       "{1: 1, 2: 3, 22: 1, 3: 2, 4: 3, 8: 1}"
      ]
     },
     "execution_count": 16,
     "metadata": {},
     "output_type": "execute_result"
    }
   ],
   "source": [
    "dic = {i: l.count(i) for i in l}\n",
    "dic"
   ]
  },
  {
   "cell_type": "code",
   "execution_count": 14,
   "id": "143cd03a",
   "metadata": {},
   "outputs": [
    {
     "data": {
      "text/plain": [
       "{1: 1, 2: 4, 3: 9, 4: 16, 5: 25}"
      ]
     },
     "execution_count": 14,
     "metadata": {},
     "output_type": "execute_result"
    }
   ],
   "source": [
    "a={i:i**2 for i in range (1,6)}\n",
    "a"
   ]
  },
  {
   "cell_type": "code",
   "execution_count": 28,
   "id": "e99084f9",
   "metadata": {},
   "outputs": [
    {
     "data": {
      "text/plain": [
       "[1, 2, 2, 3, 3, 2]"
      ]
     },
     "execution_count": 28,
     "metadata": {},
     "output_type": "execute_result"
    }
   ],
   "source": [
    "l"
   ]
  },
  {
   "cell_type": "code",
   "execution_count": 15,
   "id": "4cbc1597",
   "metadata": {},
   "outputs": [
    {
     "name": "stdout",
     "output_type": "stream",
     "text": [
      "[22, 8, 4, 3, 2, 1]\n",
      "The second highest number is: 8\n"
     ]
    }
   ],
   "source": [
    "# Remove duplicates and sort the list in descending order\n",
    "sorted_unique = sorted(set(l), reverse=True)\n",
    "print(sorted_unique)\n",
    "# Check if there are at least two unique numbers\n",
    "if len(sorted_unique) >= 2:\n",
    "    second_highest = sorted_unique[1]\n",
    "    print(\"The second highest number is:\", second_highest)\n",
    "else:\n",
    "    print(\"There are not enough unique numbers to find the second highest.\")"
   ]
  },
  {
   "cell_type": "code",
   "execution_count": null,
   "id": "47f58778",
   "metadata": {},
   "outputs": [],
   "source": []
  },
  {
   "cell_type": "raw",
   "id": "9597f18a",
   "metadata": {},
   "source": [
    "method 2-"
   ]
  },
  {
   "cell_type": "code",
   "execution_count": 63,
   "id": "2010963a",
   "metadata": {},
   "outputs": [],
   "source": [
    "l=[1,2,2,22,3,4,3,4,2,8,4]"
   ]
  },
  {
   "cell_type": "code",
   "execution_count": 7,
   "id": "560fb01a",
   "metadata": {},
   "outputs": [
    {
     "data": {
      "text/plain": [
       "[22, 8, 4, 4, 4, 3, 3, 2, 2, 2, 1]"
      ]
     },
     "execution_count": 7,
     "metadata": {},
     "output_type": "execute_result"
    }
   ],
   "source": [
    "l.sort(reverse=True)\n",
    "l"
   ]
  },
  {
   "cell_type": "code",
   "execution_count": 10,
   "id": "7171c13a",
   "metadata": {},
   "outputs": [
    {
     "data": {
      "text/plain": [
       "list"
      ]
     },
     "execution_count": 10,
     "metadata": {},
     "output_type": "execute_result"
    }
   ],
   "source": [
    "type(sorted(set(l), reverse=True))\n"
   ]
  },
  {
   "cell_type": "code",
   "execution_count": 19,
   "id": "c88494ad",
   "metadata": {},
   "outputs": [
    {
     "data": {
      "text/plain": [
       "list"
      ]
     },
     "execution_count": 19,
     "metadata": {},
     "output_type": "execute_result"
    }
   ],
   "source": [
    "type(sorted(set(l)))"
   ]
  },
  {
   "cell_type": "code",
   "execution_count": 31,
   "id": "6770a41d",
   "metadata": {},
   "outputs": [],
   "source": [
    "a=list(set(l))"
   ]
  },
  {
   "cell_type": "code",
   "execution_count": 32,
   "id": "56f0dbce",
   "metadata": {},
   "outputs": [
    {
     "data": {
      "text/plain": [
       "list"
      ]
     },
     "execution_count": 32,
     "metadata": {},
     "output_type": "execute_result"
    }
   ],
   "source": [
    "type(a)"
   ]
  },
  {
   "cell_type": "code",
   "execution_count": 35,
   "id": "93371957",
   "metadata": {},
   "outputs": [
    {
     "data": {
      "text/plain": [
       "[22, 8, 4, 3, 2, 1]"
      ]
     },
     "execution_count": 35,
     "metadata": {},
     "output_type": "execute_result"
    }
   ],
   "source": [
    "a.sort(reverse=True)\n",
    "a"
   ]
  },
  {
   "cell_type": "code",
   "execution_count": 40,
   "id": "a4079a65",
   "metadata": {},
   "outputs": [
    {
     "name": "stdout",
     "output_type": "stream",
     "text": [
      "2nd highest no.: 8\n"
     ]
    }
   ],
   "source": [
    "if len(a)>=2:\n",
    "    second_highest= a[1]\n",
    "    print('2nd highest no.:',second_highest)\n",
    "else:\n",
    "    print(\"no unique value\")"
   ]
  },
  {
   "cell_type": "code",
   "execution_count": null,
   "id": "739001fe",
   "metadata": {},
   "outputs": [],
   "source": [
    " "
   ]
  },
  {
   "cell_type": "code",
   "execution_count": 69,
   "id": "91b1207a",
   "metadata": {},
   "outputs": [],
   "source": [
    "# method - 3, using predefine function\n",
    "\n",
    "def seco_high(list1):\n",
    "    a=list(set(l))\n",
    "    a.remove(max(l))\n",
    "    print(a)\n",
    "    print(\"second higest no. is \", max(a))"
   ]
  },
  {
   "cell_type": "code",
   "execution_count": 70,
   "id": "e075641b",
   "metadata": {},
   "outputs": [
    {
     "name": "stdout",
     "output_type": "stream",
     "text": [
      "[1, 2, 3, 4, 8]\n",
      "second higest no. is  8\n"
     ]
    }
   ],
   "source": [
    "seco_high(l)"
   ]
  },
  {
   "cell_type": "code",
   "execution_count": null,
   "id": "9a84e20e",
   "metadata": {},
   "outputs": [],
   "source": []
  },
  {
   "cell_type": "code",
   "execution_count": 46,
   "id": "9a544937",
   "metadata": {},
   "outputs": [],
   "source": [
    "#Que- fibonacci series"
   ]
  },
  {
   "cell_type": "code",
   "execution_count": 15,
   "id": "fc2cc9fb",
   "metadata": {},
   "outputs": [],
   "source": [
    "def fibonacci():\n",
    "    a,b = 0,1\n",
    "    while True:\n",
    "        yield a\n",
    "        a,b= b,a+b"
   ]
  },
  {
   "cell_type": "code",
   "execution_count": 16,
   "id": "cc5b9f83",
   "metadata": {},
   "outputs": [],
   "source": [
    "f1= fibonacci()"
   ]
  },
  {
   "cell_type": "code",
   "execution_count": 17,
   "id": "6abda8ec",
   "metadata": {},
   "outputs": [
    {
     "data": {
      "text/plain": [
       "0"
      ]
     },
     "execution_count": 17,
     "metadata": {},
     "output_type": "execute_result"
    }
   ],
   "source": [
    "next(f1)"
   ]
  },
  {
   "cell_type": "code",
   "execution_count": 18,
   "id": "de327d13",
   "metadata": {},
   "outputs": [
    {
     "data": {
      "text/plain": [
       "1"
      ]
     },
     "execution_count": 18,
     "metadata": {},
     "output_type": "execute_result"
    }
   ],
   "source": [
    "next(f1)"
   ]
  },
  {
   "cell_type": "code",
   "execution_count": 19,
   "id": "96cc39fe",
   "metadata": {},
   "outputs": [
    {
     "data": {
      "text/plain": [
       "1"
      ]
     },
     "execution_count": 19,
     "metadata": {},
     "output_type": "execute_result"
    }
   ],
   "source": [
    "next(f1)"
   ]
  },
  {
   "cell_type": "code",
   "execution_count": 20,
   "id": "1ab16c4b",
   "metadata": {},
   "outputs": [
    {
     "data": {
      "text/plain": [
       "2"
      ]
     },
     "execution_count": 20,
     "metadata": {},
     "output_type": "execute_result"
    }
   ],
   "source": [
    "next(f1)"
   ]
  },
  {
   "cell_type": "code",
   "execution_count": 21,
   "id": "fb5f0c31",
   "metadata": {},
   "outputs": [
    {
     "data": {
      "text/plain": [
       "3"
      ]
     },
     "execution_count": 21,
     "metadata": {},
     "output_type": "execute_result"
    }
   ],
   "source": [
    "next(f1)"
   ]
  },
  {
   "cell_type": "code",
   "execution_count": 22,
   "id": "fdc6a265",
   "metadata": {},
   "outputs": [
    {
     "data": {
      "text/plain": [
       "5"
      ]
     },
     "execution_count": 22,
     "metadata": {},
     "output_type": "execute_result"
    }
   ],
   "source": [
    "next(f1)"
   ]
  },
  {
   "cell_type": "code",
   "execution_count": 72,
   "id": "da51281f",
   "metadata": {},
   "outputs": [
    {
     "data": {
      "text/plain": [
       "8"
      ]
     },
     "execution_count": 72,
     "metadata": {},
     "output_type": "execute_result"
    }
   ],
   "source": [
    "next(f1)"
   ]
  },
  {
   "cell_type": "code",
   "execution_count": 73,
   "id": "2a0b6b43",
   "metadata": {},
   "outputs": [
    {
     "data": {
      "text/plain": [
       "13"
      ]
     },
     "execution_count": 73,
     "metadata": {},
     "output_type": "execute_result"
    }
   ],
   "source": [
    "next(f1)"
   ]
  },
  {
   "cell_type": "code",
   "execution_count": null,
   "id": "273ecc1d",
   "metadata": {},
   "outputs": [],
   "source": []
  },
  {
   "cell_type": "code",
   "execution_count": null,
   "id": "a2f1bae7",
   "metadata": {},
   "outputs": [],
   "source": []
  },
  {
   "cell_type": "code",
   "execution_count": 75,
   "id": "06f790ae",
   "metadata": {},
   "outputs": [],
   "source": [
    "# Que= sort without using sort keyword"
   ]
  },
  {
   "cell_type": "code",
   "execution_count": 76,
   "id": "ab995205",
   "metadata": {},
   "outputs": [],
   "source": [
    "list1=[1,2,3,4,22,334,5,6,334,12,34,46]\n",
    "n=len(list1)"
   ]
  },
  {
   "cell_type": "code",
   "execution_count": 79,
   "id": "93a25ef4",
   "metadata": {},
   "outputs": [
    {
     "name": "stdout",
     "output_type": "stream",
     "text": [
      "[334, 334, 46, 34, 22, 12, 6, 5, 4, 3, 2, 1]\n"
     ]
    }
   ],
   "source": [
    "for i in range(n):\n",
    "    for j in range (i+1,n):\n",
    "        if list1[j]>list1[i]:\n",
    "            list1[i],list1[j]=list1[j],list1[i]  # is a Pythonic way of swapping elements without needing a temporary variable\n",
    "print(list1)"
   ]
  },
  {
   "cell_type": "code",
   "execution_count": null,
   "id": "1fe93fa5",
   "metadata": {},
   "outputs": [],
   "source": [
    "# eg.-  Pythonic way of swapping elements without needing a temporary variable.\n",
    "#l1=[1,22]\n",
    "#l1[0],l1[1]=l1[1],l1[0]\n",
    "#print(l1)"
   ]
  },
  {
   "cell_type": "code",
   "execution_count": null,
   "id": "ea13046f",
   "metadata": {},
   "outputs": [],
   "source": []
  },
  {
   "cell_type": "code",
   "execution_count": null,
   "id": "0b46cfa6",
   "metadata": {},
   "outputs": [],
   "source": []
  },
  {
   "cell_type": "code",
   "execution_count": 1,
   "id": "4c329617",
   "metadata": {},
   "outputs": [],
   "source": [
    "# que- find string Palindrome or not"
   ]
  },
  {
   "cell_type": "code",
   "execution_count": 13,
   "id": "0f2f53fb",
   "metadata": {},
   "outputs": [
    {
     "name": "stdout",
     "output_type": "stream",
     "text": [
      "enter name Nitin\n",
      "this is palindrome\n"
     ]
    }
   ],
   "source": [
    "s= input('enter name ').lower()\n",
    "if s == s[::-1]:\n",
    "    print('this is palindrome')\n",
    "else:\n",
    "    print(\"not\")"
   ]
  },
  {
   "cell_type": "code",
   "execution_count": null,
   "id": "236d517e",
   "metadata": {},
   "outputs": [],
   "source": []
  },
  {
   "cell_type": "code",
   "execution_count": 30,
   "id": "d57bb992",
   "metadata": {},
   "outputs": [
    {
     "name": "stdout",
     "output_type": "stream",
     "text": [
      "enter name level\n",
      "palindrome\n"
     ]
    }
   ],
   "source": [
    "# method 2\n",
    "s= input('enter name ').lower()\n",
    "n= len(s)\n",
    "# print(n)\n",
    "x=0\n",
    "for i in range(n):\n",
    "    if s[i] != s[n-i-1]:\n",
    "#        print(s[i], s[n-i-1]);  s=garry  for i=0; s[i]=g, s[n-i-1]=s[4]=y\n",
    "        x=1\n",
    "        break\n",
    "if x==0:\n",
    "    print('palindrome')\n",
    "else:\n",
    "    print('not')"
   ]
  },
  {
   "cell_type": "code",
   "execution_count": null,
   "id": "8eded5a3",
   "metadata": {},
   "outputs": [],
   "source": []
  },
  {
   "cell_type": "code",
   "execution_count": 10,
   "id": "979339db",
   "metadata": {},
   "outputs": [
    {
     "name": "stdout",
     "output_type": "stream",
     "text": [
      "0\n"
     ]
    }
   ],
   "source": [
    "for i in range(n):\n",
    "    print(i)"
   ]
  },
  {
   "cell_type": "code",
   "execution_count": 22,
   "id": "36b4823f",
   "metadata": {},
   "outputs": [
    {
     "name": "stdout",
     "output_type": "stream",
     "text": [
      "l l\n"
     ]
    }
   ],
   "source": [
    " print(s[i], s[n-i-1])"
   ]
  },
  {
   "cell_type": "code",
   "execution_count": null,
   "id": "a264ef48",
   "metadata": {},
   "outputs": [],
   "source": []
  },
  {
   "cell_type": "code",
   "execution_count": 4,
   "id": "68ed5801",
   "metadata": {},
   "outputs": [
    {
     "name": "stdout",
     "output_type": "stream",
     "text": [
      "enter letter k\n",
      "next 3rd letter of k is n\n"
     ]
    }
   ],
   "source": [
    "# Q:-find lext 3rd letter/alphabet from the alphabet that you mentioned\n",
    "\n",
    "\n",
    "letter=input('enter letter ')\n",
    "letter = letter.lower()\n",
    "letter_ord = ord(letter)\n",
    "thired_letter= ((letter_ord+3) - ord('a') )% 26 + ord('a')\n",
    "#print(thired_letter)\n",
    "next_thired_letter= chr(thired_letter)\n",
    "print(f'next 3rd letter of {letter} is {next_thired_letter}')"
   ]
  },
  {
   "cell_type": "code",
   "execution_count": null,
   "id": "69febcad",
   "metadata": {},
   "outputs": [],
   "source": []
  },
  {
   "cell_type": "code",
   "execution_count": 24,
   "id": "ed3f6d24",
   "metadata": {},
   "outputs": [
    {
     "name": "stdout",
     "output_type": "stream",
     "text": [
      "[4, 10, 11, 12]\n",
      "{4: 'cat', 10: 'apple', 11: 'ball', 12: 'dog'}\n"
     ]
    }
   ],
   "source": [
    "#Q :- sort the dict\n",
    "\n",
    "dict1={10:'apple',11:'ball',4:'cat',12:'dog'}\n",
    "r=sorted(dict1.keys())  #use this line\n",
    "#r=list(dict1.keys())   #or use this two\n",
    "#r.sort()\n",
    "print(r)\n",
    "dict2={}\n",
    "for i in r:\n",
    "    dict2[i]=dict1[i]\n",
    "print(dict2)"
   ]
  },
  {
   "cell_type": "code",
   "execution_count": null,
   "id": "bcdb5eef",
   "metadata": {},
   "outputs": [],
   "source": []
  },
  {
   "cell_type": "code",
   "execution_count": 27,
   "id": "653e20e6",
   "metadata": {},
   "outputs": [],
   "source": [
    "l=[0,4, 10, 11, 12]"
   ]
  },
  {
   "cell_type": "code",
   "execution_count": 28,
   "id": "279c294f",
   "metadata": {},
   "outputs": [
    {
     "data": {
      "text/plain": [
       "0"
      ]
     },
     "execution_count": 28,
     "metadata": {},
     "output_type": "execute_result"
    }
   ],
   "source": [
    "l[0]"
   ]
  },
  {
   "cell_type": "code",
   "execution_count": null,
   "id": "2620eb5f",
   "metadata": {},
   "outputs": [],
   "source": []
  },
  {
   "cell_type": "code",
   "execution_count": 1,
   "id": "cc5fdd83",
   "metadata": {},
   "outputs": [],
   "source": [
    "# fibonacci using recurssion "
   ]
  },
  {
   "cell_type": "code",
   "execution_count": 15,
   "id": "3f318fef",
   "metadata": {},
   "outputs": [
    {
     "name": "stdout",
     "output_type": "stream",
     "text": [
      "how many term 8\n",
      "0\n",
      "1\n",
      "1\n",
      "2\n",
      "3\n",
      "5\n",
      "8\n",
      "13\n"
     ]
    }
   ],
   "source": [
    "def recur_fibo(n):\n",
    "    if n <= 1:\n",
    "        return n\n",
    "    else:\n",
    "        return(recur_fibo(n-1)+recur_fibo(n-2))\n",
    "    \n",
    "nterm = int(input(\"how many term \"))\n",
    "if nterm <= 0:\n",
    "    print(\"please enter a possitive integer\")\n",
    "else:\n",
    "    for i in range (nterm):\n",
    "        print(recur_fibo(i))"
   ]
  },
  {
   "cell_type": "code",
   "execution_count": null,
   "id": "37b2d361",
   "metadata": {},
   "outputs": [],
   "source": []
  },
  {
   "cell_type": "code",
   "execution_count": null,
   "id": "773e0497",
   "metadata": {},
   "outputs": [],
   "source": []
  },
  {
   "cell_type": "code",
   "execution_count": 18,
   "id": "77b2d292",
   "metadata": {},
   "outputs": [
    {
     "name": "stdout",
     "output_type": "stream",
     "text": [
      "how many term 6\n",
      "0\n",
      "1\n",
      "1\n",
      "2\n",
      "3\n",
      "5\n"
     ]
    }
   ],
   "source": [
    "#fibonacci using recurssion\n",
    "\n",
    "def fibo_recu(n):\n",
    "    if n<=1:\n",
    "        return n\n",
    "    else:\n",
    "        return(fibo_recu(n-1)+fibo_recu(n-2))\n",
    "    \n",
    "nterm = int(input('how many term '))\n",
    "if nterm <=0:\n",
    "    print('enter positive num')\n",
    "else:\n",
    "    for i in range(nterm):\n",
    "        print(h(i)) "
   ]
  },
  {
   "cell_type": "code",
   "execution_count": null,
   "id": "edc5b007",
   "metadata": {},
   "outputs": [],
   "source": []
  },
  {
   "cell_type": "code",
   "execution_count": 23,
   "id": "b24347bb",
   "metadata": {},
   "outputs": [],
   "source": [
    "def fibo():\n",
    "    a,b = 0,1\n",
    "    while True:\n",
    "        yield a\n",
    "        a,b = b,a+b\n",
    "    \n",
    "        "
   ]
  },
  {
   "cell_type": "code",
   "execution_count": 24,
   "id": "8f22278b",
   "metadata": {},
   "outputs": [],
   "source": [
    "a=fibo()"
   ]
  },
  {
   "cell_type": "code",
   "execution_count": 28,
   "id": "157d0b71",
   "metadata": {},
   "outputs": [
    {
     "data": {
      "text/plain": [
       "2"
      ]
     },
     "execution_count": 28,
     "metadata": {},
     "output_type": "execute_result"
    }
   ],
   "source": [
    "next(a)"
   ]
  },
  {
   "cell_type": "code",
   "execution_count": null,
   "id": "0853ad1d",
   "metadata": {},
   "outputs": [],
   "source": []
  },
  {
   "cell_type": "code",
   "execution_count": 1,
   "id": "05a3fa2d",
   "metadata": {},
   "outputs": [],
   "source": [
    "# Q:- remove punctuation (except space)\n",
    "\n",
    "str1=\"@my #nam%e is Gau&rav\""
   ]
  },
  {
   "cell_type": "code",
   "execution_count": 2,
   "id": "103fbffd",
   "metadata": {},
   "outputs": [
    {
     "name": "stdout",
     "output_type": "stream",
     "text": [
      "my name is Gaurav\n"
     ]
    }
   ],
   "source": [
    "str2=\"\"\n",
    "for i in str1:\n",
    "    if ((i>='A' and i<='Z') |(i>='a' and i<='z')| (i==\" \")):\n",
    "        str2 = str2 + i\n",
    "print(str2)"
   ]
  },
  {
   "cell_type": "code",
   "execution_count": null,
   "id": "752e1695",
   "metadata": {},
   "outputs": [],
   "source": []
  }
 ],
 "metadata": {
  "kernelspec": {
   "display_name": "Python 3 (ipykernel)",
   "language": "python",
   "name": "python3"
  },
  "language_info": {
   "codemirror_mode": {
    "name": "ipython",
    "version": 3
   },
   "file_extension": ".py",
   "mimetype": "text/x-python",
   "name": "python",
   "nbconvert_exporter": "python",
   "pygments_lexer": "ipython3",
   "version": "3.9.12"
  }
 },
 "nbformat": 4,
 "nbformat_minor": 5
}
