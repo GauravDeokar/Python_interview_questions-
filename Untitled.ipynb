{
 "cells": [
  {
   "cell_type": "code",
   "execution_count": 45,
   "id": "9295ab81",
   "metadata": {},
   "outputs": [],
   "source": [
    "import pandas as pd"
   ]
  },
  {
   "cell_type": "code",
   "execution_count": 46,
   "id": "bbb93865",
   "metadata": {},
   "outputs": [
    {
     "ename": "SyntaxError",
     "evalue": "invalid syntax (1415271375.py, line 1)",
     "output_type": "error",
     "traceback": [
      "\u001b[1;36m  Input \u001b[1;32mIn [46]\u001b[1;36m\u001b[0m\n\u001b[1;33m    Select *, denserank() over(order by salary) as rnk from Employee\u001b[0m\n\u001b[1;37m            ^\u001b[0m\n\u001b[1;31mSyntaxError\u001b[0m\u001b[1;31m:\u001b[0m invalid syntax\n"
     ]
    }
   ],
   "source": [
    "Select *, denserank() over(order by salary) as rnk from Employee\n",
    "where rnk=7"
   ]
  },
  {
   "cell_type": "code",
   "execution_count": 14,
   "id": "cf3513df",
   "metadata": {},
   "outputs": [],
   "source": [
    "df=pd.DataFrame({'id': [1,2,3,4,5,6,7,8,9,10],\n",
    "                'name':['a','b','c','d','e','h','i','j','k','g'],\n",
    "                 'sal':[10000,12000,13000,14000,15000,6000,70000,80000,90000,100000]})"
   ]
  },
  {
   "cell_type": "code",
   "execution_count": 5,
   "id": "7ed6b4de",
   "metadata": {},
   "outputs": [
    {
     "data": {
      "text/html": [
       "<div>\n",
       "<style scoped>\n",
       "    .dataframe tbody tr th:only-of-type {\n",
       "        vertical-align: middle;\n",
       "    }\n",
       "\n",
       "    .dataframe tbody tr th {\n",
       "        vertical-align: top;\n",
       "    }\n",
       "\n",
       "    .dataframe thead th {\n",
       "        text-align: right;\n",
       "    }\n",
       "</style>\n",
       "<table border=\"1\" class=\"dataframe\">\n",
       "  <thead>\n",
       "    <tr style=\"text-align: right;\">\n",
       "      <th></th>\n",
       "      <th>id</th>\n",
       "      <th>name</th>\n",
       "      <th>sal</th>\n",
       "    </tr>\n",
       "  </thead>\n",
       "  <tbody>\n",
       "    <tr>\n",
       "      <th>0</th>\n",
       "      <td>1</td>\n",
       "      <td>a</td>\n",
       "      <td>10000</td>\n",
       "    </tr>\n",
       "    <tr>\n",
       "      <th>1</th>\n",
       "      <td>2</td>\n",
       "      <td>b</td>\n",
       "      <td>12000</td>\n",
       "    </tr>\n",
       "    <tr>\n",
       "      <th>2</th>\n",
       "      <td>3</td>\n",
       "      <td>c</td>\n",
       "      <td>13000</td>\n",
       "    </tr>\n",
       "    <tr>\n",
       "      <th>3</th>\n",
       "      <td>4</td>\n",
       "      <td>d</td>\n",
       "      <td>14000</td>\n",
       "    </tr>\n",
       "    <tr>\n",
       "      <th>4</th>\n",
       "      <td>5</td>\n",
       "      <td>e</td>\n",
       "      <td>15000</td>\n",
       "    </tr>\n",
       "    <tr>\n",
       "      <th>5</th>\n",
       "      <td>6</td>\n",
       "      <td>h</td>\n",
       "      <td>6000</td>\n",
       "    </tr>\n",
       "    <tr>\n",
       "      <th>6</th>\n",
       "      <td>7</td>\n",
       "      <td>i</td>\n",
       "      <td>70000</td>\n",
       "    </tr>\n",
       "    <tr>\n",
       "      <th>7</th>\n",
       "      <td>8</td>\n",
       "      <td>j</td>\n",
       "      <td>80000</td>\n",
       "    </tr>\n",
       "    <tr>\n",
       "      <th>8</th>\n",
       "      <td>9</td>\n",
       "      <td>k</td>\n",
       "      <td>90000</td>\n",
       "    </tr>\n",
       "    <tr>\n",
       "      <th>9</th>\n",
       "      <td>10</td>\n",
       "      <td>g</td>\n",
       "      <td>100000</td>\n",
       "    </tr>\n",
       "  </tbody>\n",
       "</table>\n",
       "</div>"
      ],
      "text/plain": [
       "   id name     sal\n",
       "0   1    a   10000\n",
       "1   2    b   12000\n",
       "2   3    c   13000\n",
       "3   4    d   14000\n",
       "4   5    e   15000\n",
       "5   6    h    6000\n",
       "6   7    i   70000\n",
       "7   8    j   80000\n",
       "8   9    k   90000\n",
       "9  10    g  100000"
      ]
     },
     "execution_count": 5,
     "metadata": {},
     "output_type": "execute_result"
    }
   ],
   "source": [
    "df"
   ]
  },
  {
   "cell_type": "code",
   "execution_count": 6,
   "id": "8689c85a",
   "metadata": {},
   "outputs": [],
   "source": [
    "df['new_sal']=df.sort_values(['sal'],ignore_index=True).groupby(['name']).cumcount()+1"
   ]
  },
  {
   "cell_type": "code",
   "execution_count": 7,
   "id": "c5cea415",
   "metadata": {},
   "outputs": [
    {
     "data": {
      "text/html": [
       "<div>\n",
       "<style scoped>\n",
       "    .dataframe tbody tr th:only-of-type {\n",
       "        vertical-align: middle;\n",
       "    }\n",
       "\n",
       "    .dataframe tbody tr th {\n",
       "        vertical-align: top;\n",
       "    }\n",
       "\n",
       "    .dataframe thead th {\n",
       "        text-align: right;\n",
       "    }\n",
       "</style>\n",
       "<table border=\"1\" class=\"dataframe\">\n",
       "  <thead>\n",
       "    <tr style=\"text-align: right;\">\n",
       "      <th></th>\n",
       "      <th>id</th>\n",
       "      <th>name</th>\n",
       "      <th>sal</th>\n",
       "      <th>new_sal</th>\n",
       "    </tr>\n",
       "  </thead>\n",
       "  <tbody>\n",
       "    <tr>\n",
       "      <th>0</th>\n",
       "      <td>1</td>\n",
       "      <td>a</td>\n",
       "      <td>10000</td>\n",
       "      <td>1</td>\n",
       "    </tr>\n",
       "    <tr>\n",
       "      <th>1</th>\n",
       "      <td>2</td>\n",
       "      <td>b</td>\n",
       "      <td>12000</td>\n",
       "      <td>1</td>\n",
       "    </tr>\n",
       "    <tr>\n",
       "      <th>2</th>\n",
       "      <td>3</td>\n",
       "      <td>c</td>\n",
       "      <td>13000</td>\n",
       "      <td>1</td>\n",
       "    </tr>\n",
       "    <tr>\n",
       "      <th>3</th>\n",
       "      <td>4</td>\n",
       "      <td>d</td>\n",
       "      <td>14000</td>\n",
       "      <td>1</td>\n",
       "    </tr>\n",
       "    <tr>\n",
       "      <th>4</th>\n",
       "      <td>5</td>\n",
       "      <td>e</td>\n",
       "      <td>15000</td>\n",
       "      <td>1</td>\n",
       "    </tr>\n",
       "    <tr>\n",
       "      <th>5</th>\n",
       "      <td>6</td>\n",
       "      <td>h</td>\n",
       "      <td>6000</td>\n",
       "      <td>1</td>\n",
       "    </tr>\n",
       "    <tr>\n",
       "      <th>6</th>\n",
       "      <td>7</td>\n",
       "      <td>i</td>\n",
       "      <td>70000</td>\n",
       "      <td>1</td>\n",
       "    </tr>\n",
       "    <tr>\n",
       "      <th>7</th>\n",
       "      <td>8</td>\n",
       "      <td>j</td>\n",
       "      <td>80000</td>\n",
       "      <td>1</td>\n",
       "    </tr>\n",
       "    <tr>\n",
       "      <th>8</th>\n",
       "      <td>9</td>\n",
       "      <td>k</td>\n",
       "      <td>90000</td>\n",
       "      <td>1</td>\n",
       "    </tr>\n",
       "    <tr>\n",
       "      <th>9</th>\n",
       "      <td>10</td>\n",
       "      <td>g</td>\n",
       "      <td>100000</td>\n",
       "      <td>1</td>\n",
       "    </tr>\n",
       "  </tbody>\n",
       "</table>\n",
       "</div>"
      ],
      "text/plain": [
       "   id name     sal  new_sal\n",
       "0   1    a   10000        1\n",
       "1   2    b   12000        1\n",
       "2   3    c   13000        1\n",
       "3   4    d   14000        1\n",
       "4   5    e   15000        1\n",
       "5   6    h    6000        1\n",
       "6   7    i   70000        1\n",
       "7   8    j   80000        1\n",
       "8   9    k   90000        1\n",
       "9  10    g  100000        1"
      ]
     },
     "execution_count": 7,
     "metadata": {},
     "output_type": "execute_result"
    }
   ],
   "source": [
    "df"
   ]
  },
  {
   "cell_type": "code",
   "execution_count": 8,
   "id": "3431b258",
   "metadata": {},
   "outputs": [],
   "source": [
    "df['sal1']=df['sal'].rank(method='dense')"
   ]
  },
  {
   "cell_type": "code",
   "execution_count": 9,
   "id": "c0a24c11",
   "metadata": {},
   "outputs": [
    {
     "data": {
      "text/html": [
       "<div>\n",
       "<style scoped>\n",
       "    .dataframe tbody tr th:only-of-type {\n",
       "        vertical-align: middle;\n",
       "    }\n",
       "\n",
       "    .dataframe tbody tr th {\n",
       "        vertical-align: top;\n",
       "    }\n",
       "\n",
       "    .dataframe thead th {\n",
       "        text-align: right;\n",
       "    }\n",
       "</style>\n",
       "<table border=\"1\" class=\"dataframe\">\n",
       "  <thead>\n",
       "    <tr style=\"text-align: right;\">\n",
       "      <th></th>\n",
       "      <th>id</th>\n",
       "      <th>name</th>\n",
       "      <th>sal</th>\n",
       "      <th>new_sal</th>\n",
       "    </tr>\n",
       "    <tr>\n",
       "      <th>sal1</th>\n",
       "      <th></th>\n",
       "      <th></th>\n",
       "      <th></th>\n",
       "      <th></th>\n",
       "    </tr>\n",
       "  </thead>\n",
       "  <tbody>\n",
       "    <tr>\n",
       "      <th>2.0</th>\n",
       "      <td>1</td>\n",
       "      <td>a</td>\n",
       "      <td>10000</td>\n",
       "      <td>1</td>\n",
       "    </tr>\n",
       "    <tr>\n",
       "      <th>3.0</th>\n",
       "      <td>2</td>\n",
       "      <td>b</td>\n",
       "      <td>12000</td>\n",
       "      <td>1</td>\n",
       "    </tr>\n",
       "    <tr>\n",
       "      <th>4.0</th>\n",
       "      <td>3</td>\n",
       "      <td>c</td>\n",
       "      <td>13000</td>\n",
       "      <td>1</td>\n",
       "    </tr>\n",
       "    <tr>\n",
       "      <th>5.0</th>\n",
       "      <td>4</td>\n",
       "      <td>d</td>\n",
       "      <td>14000</td>\n",
       "      <td>1</td>\n",
       "    </tr>\n",
       "    <tr>\n",
       "      <th>6.0</th>\n",
       "      <td>5</td>\n",
       "      <td>e</td>\n",
       "      <td>15000</td>\n",
       "      <td>1</td>\n",
       "    </tr>\n",
       "    <tr>\n",
       "      <th>1.0</th>\n",
       "      <td>6</td>\n",
       "      <td>h</td>\n",
       "      <td>6000</td>\n",
       "      <td>1</td>\n",
       "    </tr>\n",
       "    <tr>\n",
       "      <th>7.0</th>\n",
       "      <td>7</td>\n",
       "      <td>i</td>\n",
       "      <td>70000</td>\n",
       "      <td>1</td>\n",
       "    </tr>\n",
       "    <tr>\n",
       "      <th>8.0</th>\n",
       "      <td>8</td>\n",
       "      <td>j</td>\n",
       "      <td>80000</td>\n",
       "      <td>1</td>\n",
       "    </tr>\n",
       "    <tr>\n",
       "      <th>9.0</th>\n",
       "      <td>9</td>\n",
       "      <td>k</td>\n",
       "      <td>90000</td>\n",
       "      <td>1</td>\n",
       "    </tr>\n",
       "    <tr>\n",
       "      <th>10.0</th>\n",
       "      <td>10</td>\n",
       "      <td>g</td>\n",
       "      <td>100000</td>\n",
       "      <td>1</td>\n",
       "    </tr>\n",
       "  </tbody>\n",
       "</table>\n",
       "</div>"
      ],
      "text/plain": [
       "      id name     sal  new_sal\n",
       "sal1                          \n",
       "2.0    1    a   10000        1\n",
       "3.0    2    b   12000        1\n",
       "4.0    3    c   13000        1\n",
       "5.0    4    d   14000        1\n",
       "6.0    5    e   15000        1\n",
       "1.0    6    h    6000        1\n",
       "7.0    7    i   70000        1\n",
       "8.0    8    j   80000        1\n",
       "9.0    9    k   90000        1\n",
       "10.0  10    g  100000        1"
      ]
     },
     "execution_count": 9,
     "metadata": {},
     "output_type": "execute_result"
    }
   ],
   "source": [
    "df.set_index('sal1')"
   ]
  },
  {
   "cell_type": "code",
   "execution_count": 10,
   "id": "cd55dd7e",
   "metadata": {},
   "outputs": [
    {
     "data": {
      "text/plain": [
       "id             8\n",
       "name           j\n",
       "sal        80000\n",
       "new_sal        1\n",
       "sal1         8.0\n",
       "Name: 7, dtype: object"
      ]
     },
     "execution_count": 10,
     "metadata": {},
     "output_type": "execute_result"
    }
   ],
   "source": [
    "df.loc[7.0]"
   ]
  },
  {
   "cell_type": "code",
   "execution_count": 12,
   "id": "b2e08747",
   "metadata": {},
   "outputs": [],
   "source": [
    "df.drop('new_sal',axis=1,inplace=True)"
   ]
  },
  {
   "cell_type": "code",
   "execution_count": 15,
   "id": "b6f95318",
   "metadata": {},
   "outputs": [
    {
     "data": {
      "text/html": [
       "<div>\n",
       "<style scoped>\n",
       "    .dataframe tbody tr th:only-of-type {\n",
       "        vertical-align: middle;\n",
       "    }\n",
       "\n",
       "    .dataframe tbody tr th {\n",
       "        vertical-align: top;\n",
       "    }\n",
       "\n",
       "    .dataframe thead th {\n",
       "        text-align: right;\n",
       "    }\n",
       "</style>\n",
       "<table border=\"1\" class=\"dataframe\">\n",
       "  <thead>\n",
       "    <tr style=\"text-align: right;\">\n",
       "      <th></th>\n",
       "      <th>id</th>\n",
       "      <th>name</th>\n",
       "      <th>sal</th>\n",
       "    </tr>\n",
       "  </thead>\n",
       "  <tbody>\n",
       "    <tr>\n",
       "      <th>0</th>\n",
       "      <td>1</td>\n",
       "      <td>a</td>\n",
       "      <td>10000</td>\n",
       "    </tr>\n",
       "    <tr>\n",
       "      <th>1</th>\n",
       "      <td>2</td>\n",
       "      <td>b</td>\n",
       "      <td>12000</td>\n",
       "    </tr>\n",
       "    <tr>\n",
       "      <th>2</th>\n",
       "      <td>3</td>\n",
       "      <td>c</td>\n",
       "      <td>13000</td>\n",
       "    </tr>\n",
       "    <tr>\n",
       "      <th>3</th>\n",
       "      <td>4</td>\n",
       "      <td>d</td>\n",
       "      <td>14000</td>\n",
       "    </tr>\n",
       "    <tr>\n",
       "      <th>4</th>\n",
       "      <td>5</td>\n",
       "      <td>e</td>\n",
       "      <td>15000</td>\n",
       "    </tr>\n",
       "    <tr>\n",
       "      <th>5</th>\n",
       "      <td>6</td>\n",
       "      <td>h</td>\n",
       "      <td>6000</td>\n",
       "    </tr>\n",
       "    <tr>\n",
       "      <th>6</th>\n",
       "      <td>7</td>\n",
       "      <td>i</td>\n",
       "      <td>70000</td>\n",
       "    </tr>\n",
       "    <tr>\n",
       "      <th>7</th>\n",
       "      <td>8</td>\n",
       "      <td>j</td>\n",
       "      <td>80000</td>\n",
       "    </tr>\n",
       "    <tr>\n",
       "      <th>8</th>\n",
       "      <td>9</td>\n",
       "      <td>k</td>\n",
       "      <td>90000</td>\n",
       "    </tr>\n",
       "    <tr>\n",
       "      <th>9</th>\n",
       "      <td>10</td>\n",
       "      <td>g</td>\n",
       "      <td>100000</td>\n",
       "    </tr>\n",
       "  </tbody>\n",
       "</table>\n",
       "</div>"
      ],
      "text/plain": [
       "   id name     sal\n",
       "0   1    a   10000\n",
       "1   2    b   12000\n",
       "2   3    c   13000\n",
       "3   4    d   14000\n",
       "4   5    e   15000\n",
       "5   6    h    6000\n",
       "6   7    i   70000\n",
       "7   8    j   80000\n",
       "8   9    k   90000\n",
       "9  10    g  100000"
      ]
     },
     "execution_count": 15,
     "metadata": {},
     "output_type": "execute_result"
    }
   ],
   "source": [
    "df"
   ]
  },
  {
   "cell_type": "code",
   "execution_count": 35,
   "id": "7147370b",
   "metadata": {},
   "outputs": [
    {
     "data": {
      "text/plain": [
       "0     9.0\n",
       "1     8.0\n",
       "2     7.0\n",
       "3     6.0\n",
       "4     5.0\n",
       "5    10.0\n",
       "6     4.0\n",
       "7     3.0\n",
       "8     2.0\n",
       "9     1.0\n",
       "Name: sal, dtype: float64"
      ]
     },
     "execution_count": 35,
     "metadata": {},
     "output_type": "execute_result"
    }
   ],
   "source": [
    "df['sal'].rank(method='dense',ascending=False)"
   ]
  },
  {
   "cell_type": "code",
   "execution_count": 32,
   "id": "1ee6c173",
   "metadata": {},
   "outputs": [
    {
     "data": {
      "text/html": [
       "<div>\n",
       "<style scoped>\n",
       "    .dataframe tbody tr th:only-of-type {\n",
       "        vertical-align: middle;\n",
       "    }\n",
       "\n",
       "    .dataframe tbody tr th {\n",
       "        vertical-align: top;\n",
       "    }\n",
       "\n",
       "    .dataframe thead th {\n",
       "        text-align: right;\n",
       "    }\n",
       "</style>\n",
       "<table border=\"1\" class=\"dataframe\">\n",
       "  <thead>\n",
       "    <tr style=\"text-align: right;\">\n",
       "      <th></th>\n",
       "      <th>id</th>\n",
       "      <th>name</th>\n",
       "      <th>sal</th>\n",
       "      <th>rank</th>\n",
       "    </tr>\n",
       "  </thead>\n",
       "  <tbody>\n",
       "    <tr>\n",
       "      <th>2</th>\n",
       "      <td>3</td>\n",
       "      <td>c</td>\n",
       "      <td>13000</td>\n",
       "      <td>7.0</td>\n",
       "    </tr>\n",
       "  </tbody>\n",
       "</table>\n",
       "</div>"
      ],
      "text/plain": [
       "   id name    sal  rank\n",
       "2   3    c  13000   7.0"
      ]
     },
     "execution_count": 32,
     "metadata": {},
     "output_type": "execute_result"
    }
   ],
   "source": [
    "df[df['rank']==7]"
   ]
  },
  {
   "cell_type": "code",
   "execution_count": 39,
   "id": "f4b6e2cb",
   "metadata": {},
   "outputs": [
    {
     "data": {
      "text/html": [
       "<div>\n",
       "<style scoped>\n",
       "    .dataframe tbody tr th:only-of-type {\n",
       "        vertical-align: middle;\n",
       "    }\n",
       "\n",
       "    .dataframe tbody tr th {\n",
       "        vertical-align: top;\n",
       "    }\n",
       "\n",
       "    .dataframe thead th {\n",
       "        text-align: right;\n",
       "    }\n",
       "</style>\n",
       "<table border=\"1\" class=\"dataframe\">\n",
       "  <thead>\n",
       "    <tr style=\"text-align: right;\">\n",
       "      <th></th>\n",
       "      <th>id</th>\n",
       "      <th>name</th>\n",
       "      <th>sal</th>\n",
       "      <th>rank</th>\n",
       "    </tr>\n",
       "  </thead>\n",
       "  <tbody>\n",
       "    <tr>\n",
       "      <th>9</th>\n",
       "      <td>10</td>\n",
       "      <td>g</td>\n",
       "      <td>100000</td>\n",
       "      <td>1.0</td>\n",
       "    </tr>\n",
       "    <tr>\n",
       "      <th>8</th>\n",
       "      <td>9</td>\n",
       "      <td>k</td>\n",
       "      <td>90000</td>\n",
       "      <td>2.0</td>\n",
       "    </tr>\n",
       "    <tr>\n",
       "      <th>7</th>\n",
       "      <td>8</td>\n",
       "      <td>j</td>\n",
       "      <td>80000</td>\n",
       "      <td>3.0</td>\n",
       "    </tr>\n",
       "    <tr>\n",
       "      <th>6</th>\n",
       "      <td>7</td>\n",
       "      <td>i</td>\n",
       "      <td>70000</td>\n",
       "      <td>4.0</td>\n",
       "    </tr>\n",
       "    <tr>\n",
       "      <th>4</th>\n",
       "      <td>5</td>\n",
       "      <td>e</td>\n",
       "      <td>15000</td>\n",
       "      <td>5.0</td>\n",
       "    </tr>\n",
       "    <tr>\n",
       "      <th>3</th>\n",
       "      <td>4</td>\n",
       "      <td>d</td>\n",
       "      <td>14000</td>\n",
       "      <td>6.0</td>\n",
       "    </tr>\n",
       "    <tr>\n",
       "      <th>2</th>\n",
       "      <td>3</td>\n",
       "      <td>c</td>\n",
       "      <td>13000</td>\n",
       "      <td>7.0</td>\n",
       "    </tr>\n",
       "    <tr>\n",
       "      <th>1</th>\n",
       "      <td>2</td>\n",
       "      <td>b</td>\n",
       "      <td>12000</td>\n",
       "      <td>8.0</td>\n",
       "    </tr>\n",
       "    <tr>\n",
       "      <th>0</th>\n",
       "      <td>1</td>\n",
       "      <td>a</td>\n",
       "      <td>10000</td>\n",
       "      <td>9.0</td>\n",
       "    </tr>\n",
       "    <tr>\n",
       "      <th>5</th>\n",
       "      <td>6</td>\n",
       "      <td>h</td>\n",
       "      <td>6000</td>\n",
       "      <td>10.0</td>\n",
       "    </tr>\n",
       "  </tbody>\n",
       "</table>\n",
       "</div>"
      ],
      "text/plain": [
       "   id name     sal  rank\n",
       "9  10    g  100000   1.0\n",
       "8   9    k   90000   2.0\n",
       "7   8    j   80000   3.0\n",
       "6   7    i   70000   4.0\n",
       "4   5    e   15000   5.0\n",
       "3   4    d   14000   6.0\n",
       "2   3    c   13000   7.0\n",
       "1   2    b   12000   8.0\n",
       "0   1    a   10000   9.0\n",
       "5   6    h    6000  10.0"
      ]
     },
     "execution_count": 39,
     "metadata": {},
     "output_type": "execute_result"
    }
   ],
   "source": [
    "df.sort_values(by='sal', ascending=False)"
   ]
  },
  {
   "cell_type": "code",
   "execution_count": null,
   "id": "1c018b9d",
   "metadata": {},
   "outputs": [],
   "source": []
  },
  {
   "cell_type": "code",
   "execution_count": null,
   "id": "aae3778f",
   "metadata": {},
   "outputs": [],
   "source": [
    "Find and return the maximum profit you can achieve.\n",
    "Example 1:\n",
    "Input: prices = [7,1,5,3,6,4]\n",
    "Output: 7"
   ]
  },
  {
   "cell_type": "code",
   "execution_count": 5,
   "id": "a814d9b3",
   "metadata": {},
   "outputs": [],
   "source": [
    "def share(prices):\n",
    "    max_prof = 0\n",
    "    for i in range(1,len(prices)):\n",
    "        if prices[i]>prices[i-1]:\n",
    "            max_prof += prices[i] - prices[i-1]\n",
    "    return max_prof"
   ]
  },
  {
   "cell_type": "code",
   "execution_count": 10,
   "id": "bca0af96",
   "metadata": {},
   "outputs": [
    {
     "data": {
      "text/plain": [
       "7"
      ]
     },
     "execution_count": 10,
     "metadata": {},
     "output_type": "execute_result"
    }
   ],
   "source": [
    "prices = [7,1,5,3,6,4]\n",
    "share(prices)"
   ]
  },
  {
   "cell_type": "code",
   "execution_count": null,
   "id": "7ceb8dda",
   "metadata": {},
   "outputs": [],
   "source": []
  },
  {
   "cell_type": "code",
   "execution_count": 27,
   "id": "e52eacf6",
   "metadata": {},
   "outputs": [],
   "source": [
    "# list sort\n",
    "\n",
    "l=[1,2,34,44,5,3,8,4,4,57,89,100,13]"
   ]
  },
  {
   "cell_type": "code",
   "execution_count": 3,
   "id": "5edf9b4d",
   "metadata": {},
   "outputs": [
    {
     "name": "stdout",
     "output_type": "stream",
     "text": [
      "[1, 2, 3, 4, 4, 5, 8, 13, 33, 44, 57, 89, 100]\n"
     ]
    }
   ],
   "source": [
    "for i in range(len(l)):\n",
    "    for j in range(i+1,len(l)):\n",
    "        if l[i]>l[j]:\n",
    "            l[i],l[j] = l[j],l[i]\n",
    "print(l)"
   ]
  },
  {
   "cell_type": "code",
   "execution_count": null,
   "id": "807a9e19",
   "metadata": {},
   "outputs": [],
   "source": []
  },
  {
   "cell_type": "code",
   "execution_count": 5,
   "id": "61ec099e",
   "metadata": {},
   "outputs": [
    {
     "name": "stdout",
     "output_type": "stream",
     "text": [
      "[100, 89, 57, 44, 33, 13, 8, 5, 4, 4, 3, 2, 1]\n"
     ]
    }
   ],
   "source": [
    "for i in range(len(l)):\n",
    "    for j in range(i+1,len(l)):\n",
    "        if l[i]<l[j]:\n",
    "            l[i],l[j] = l[j],l[i]\n",
    "print(l)"
   ]
  },
  {
   "cell_type": "code",
   "execution_count": null,
   "id": "65bc8acd",
   "metadata": {},
   "outputs": [],
   "source": []
  },
  {
   "cell_type": "code",
   "execution_count": 6,
   "id": "7c3924a6",
   "metadata": {},
   "outputs": [],
   "source": [
    "def fibo():\n",
    "    a,b = 0,1\n",
    "    while True:\n",
    "        yield a\n",
    "        a,b = b,a+b"
   ]
  },
  {
   "cell_type": "code",
   "execution_count": 7,
   "id": "cc1ee039",
   "metadata": {},
   "outputs": [],
   "source": [
    "obj=fibo()"
   ]
  },
  {
   "cell_type": "code",
   "execution_count": 11,
   "id": "54d6a6bd",
   "metadata": {},
   "outputs": [
    {
     "data": {
      "text/plain": [
       "2"
      ]
     },
     "execution_count": 11,
     "metadata": {},
     "output_type": "execute_result"
    }
   ],
   "source": [
    "next(obj)"
   ]
  },
  {
   "cell_type": "code",
   "execution_count": 47,
   "id": "ca35f628",
   "metadata": {},
   "outputs": [],
   "source": [
    "p=[1,2,4,5,4,3]"
   ]
  },
  {
   "cell_type": "code",
   "execution_count": 51,
   "id": "10e948ea",
   "metadata": {},
   "outputs": [
    {
     "ename": "Exception",
     "evalue": "unwanted value",
     "output_type": "error",
     "traceback": [
      "\u001b[1;31m---------------------------------------------------------------------------\u001b[0m",
      "\u001b[1;31mException\u001b[0m                                 Traceback (most recent call last)",
      "Input \u001b[1;32mIn [51]\u001b[0m, in \u001b[0;36m<cell line: 3>\u001b[1;34m()\u001b[0m\n\u001b[0;32m      3\u001b[0m \u001b[38;5;28;01mfor\u001b[39;00m i \u001b[38;5;129;01min\u001b[39;00m p:\n\u001b[0;32m      4\u001b[0m     \u001b[38;5;28;01mif\u001b[39;00m i \u001b[38;5;241m==\u001b[39m \u001b[38;5;241m3\u001b[39m:\n\u001b[1;32m----> 5\u001b[0m         \u001b[38;5;28;01mraise\u001b[39;00m \u001b[38;5;167;01mException\u001b[39;00m(\u001b[38;5;124m'\u001b[39m\u001b[38;5;124munwanted value\u001b[39m\u001b[38;5;124m'\u001b[39m)\n\u001b[0;32m      6\u001b[0m     \u001b[38;5;28;01melse\u001b[39;00m:\n\u001b[0;32m      7\u001b[0m         \u001b[38;5;28msum\u001b[39m \u001b[38;5;241m+\u001b[39m\u001b[38;5;241m=\u001b[39m i\n",
      "\u001b[1;31mException\u001b[0m: unwanted value"
     ]
    }
   ],
   "source": [
    "#Q- raise exception  when find 33 in list l\n",
    "sum=0\n",
    "for i in p:\n",
    "    if i == 3:\n",
    "        raise Exception('unwanted value')\n",
    "    else:\n",
    "        sum += i\n",
    "sum\n",
    "        \n"
   ]
  },
  {
   "cell_type": "code",
   "execution_count": null,
   "id": "20c81110",
   "metadata": {},
   "outputs": [],
   "source": []
  },
  {
   "cell_type": "code",
   "execution_count": 52,
   "id": "44f27599",
   "metadata": {},
   "outputs": [
    {
     "data": {
      "text/plain": [
       "[1, 2, 34, 44, 5, 3, 8, 4, 4, 57, 89, 100, 13]"
      ]
     },
     "execution_count": 52,
     "metadata": {},
     "output_type": "execute_result"
    }
   ],
   "source": [
    "l"
   ]
  },
  {
   "cell_type": "code",
   "execution_count": 54,
   "id": "723bed42",
   "metadata": {},
   "outputs": [
    {
     "name": "stdout",
     "output_type": "stream",
     "text": [
      "[1, 2, 3, 4, 4, 5, 8, 13, 34, 44, 57, 89, 100]\n",
      "min 1\n",
      "max 100\n"
     ]
    }
   ],
   "source": [
    "#Q find max, min value without using predefine function\n",
    "for i in range(len(l)):\n",
    "    for j in range(i+1,len(l)):\n",
    "        if l[i]>l[j]:\n",
    "            l[i],l[j]=l[j],l[i]\n",
    "print(l)\n",
    "print('min', l[0])\n",
    "print('max', l[-1])"
   ]
  },
  {
   "cell_type": "code",
   "execution_count": null,
   "id": "b8b9d98a",
   "metadata": {},
   "outputs": [],
   "source": []
  },
  {
   "cell_type": "code",
   "execution_count": 74,
   "id": "e73d648b",
   "metadata": {},
   "outputs": [],
   "source": [
    "s=\"acjdfdndfnissjxlkmxzndnijsdojq\""
   ]
  },
  {
   "cell_type": "code",
   "execution_count": 75,
   "id": "65b9c0e8",
   "metadata": {},
   "outputs": [
    {
     "name": "stdout",
     "output_type": "stream",
     "text": [
      "12\n",
      "b\n",
      "a\n"
     ]
    }
   ],
   "source": [
    "ch={'a':12,'b':11}\n",
    "print(ch.get('a'))\n",
    "print(max(ch.keys()))  #Finding the maximum value\n",
    "print(max(ch, key=ch.get)) #Finding the key with the maximum value"
   ]
  },
  {
   "cell_type": "code",
   "execution_count": 76,
   "id": "fc5b5ab0",
   "metadata": {},
   "outputs": [
    {
     "name": "stdout",
     "output_type": "stream",
     "text": [
      "{'a': 1, 'c': 1, 'j': 4, 'd': 5, 'f': 2, 'n': 4, 'i': 2, 's': 3, 'x': 2, 'l': 1, 'k': 1, 'm': 1, 'z': 1, 'o': 1, 'q': 1}\n",
      "max char :  d\n"
     ]
    }
   ],
   "source": [
    "#Q find max repeated charecter in string having o(n^2) complexity\n",
    "\n",
    "ch1={}          \n",
    "for i in s:\n",
    "    if i in ch1:\n",
    "        ch1[i]+=1\n",
    "    else:\n",
    "        ch1[i]=1\n",
    "print(ch1)\n",
    "print('max char : ',max(ch1, key=ch1.get))"
   ]
  },
  {
   "cell_type": "code",
   "execution_count": 81,
   "id": "20bf3293",
   "metadata": {},
   "outputs": [
    {
     "name": "stdout",
     "output_type": "stream",
     "text": [
      "max value is : d and min value : a\n"
     ]
    }
   ],
   "source": [
    "f={}\n",
    "for i in s:\n",
    "    if i in f:\n",
    "        f[i]+=1\n",
    "    else:\n",
    "        f[i]=1\n",
    "max_val = max(f, key=f.get)\n",
    "min_val = min(f, key=f.get)\n",
    "print(f\"max value is : {max_val} and min value : {min_val}\")"
   ]
  },
  {
   "cell_type": "code",
   "execution_count": null,
   "id": "bff5ec6e",
   "metadata": {},
   "outputs": [],
   "source": []
  },
  {
   "cell_type": "code",
   "execution_count": 5,
   "id": "0266d408",
   "metadata": {},
   "outputs": [
    {
     "data": {
      "text/plain": [
       "'55'"
      ]
     },
     "execution_count": 5,
     "metadata": {},
     "output_type": "execute_result"
    }
   ],
   "source": [
    "a='5'+'5'\n",
    "a"
   ]
  },
  {
   "cell_type": "code",
   "execution_count": 4,
   "id": "289bd7d5",
   "metadata": {},
   "outputs": [],
   "source": [
    "str1=\"@my #nam%e is Gau&rav\""
   ]
  },
  {
   "cell_type": "code",
   "execution_count": 5,
   "id": "544b4342",
   "metadata": {},
   "outputs": [
    {
     "name": "stdout",
     "output_type": "stream",
     "text": [
      "my name is Gaurav\n"
     ]
    }
   ],
   "source": [
    "str2=\"\"\n",
    "for i in str1:\n",
    "    if ((i>='a' and i<='z') | (i>='A' and i<='Z') | (i==\" \")):\n",
    "#    if ((i>='a' and i<='z') or (i>='A' and i<='Z') or (i==\" \"))\n",
    "        str2 = str2 + i\n",
    "print(str2)"
   ]
  },
  {
   "cell_type": "code",
   "execution_count": null,
   "id": "e94dd4aa",
   "metadata": {},
   "outputs": [],
   "source": []
  },
  {
   "cell_type": "code",
   "execution_count": 6,
   "id": "9ded3b24",
   "metadata": {},
   "outputs": [],
   "source": [
    "#Q: 'my name is Gaurav' convert into 'Gaurav is name my'"
   ]
  },
  {
   "cell_type": "code",
   "execution_count": 7,
   "id": "63b7cfb1",
   "metadata": {},
   "outputs": [],
   "source": [
    "s1=' '\n",
    "str3= str2.split(' ')"
   ]
  },
  {
   "cell_type": "code",
   "execution_count": 8,
   "id": "5fb1f7e8",
   "metadata": {},
   "outputs": [
    {
     "data": {
      "text/plain": [
       "'Gaurav is name my'"
      ]
     },
     "execution_count": 8,
     "metadata": {},
     "output_type": "execute_result"
    }
   ],
   "source": [
    "l=str3[::-1]\n",
    "s1=s1.join(l)\n",
    "s1"
   ]
  },
  {
   "cell_type": "code",
   "execution_count": null,
   "id": "2ffc0ff7",
   "metadata": {},
   "outputs": [],
   "source": []
  },
  {
   "cell_type": "code",
   "execution_count": 1,
   "id": "165fcccb",
   "metadata": {},
   "outputs": [
    {
     "name": "stdout",
     "output_type": "stream",
     "text": [
      "enter num of term 6\n",
      "0\n",
      "1\n",
      "1\n",
      "2\n",
      "3\n",
      "5\n"
     ]
    }
   ],
   "source": [
    "def fibo(n):\n",
    "    if n<=1:\n",
    "        return n\n",
    "    else:\n",
    "        return (fibo(n-1)+fibo(n-2))\n",
    "\n",
    "nterm=int(input('enter num of term '))\n",
    "if nterm <=0:\n",
    "    print(\"enter positive number\")\n",
    "else:\n",
    "    for i in range (nterm):\n",
    "        print(fibo(i))"
   ]
  },
  {
   "cell_type": "code",
   "execution_count": null,
   "id": "0d72f65f",
   "metadata": {},
   "outputs": [],
   "source": []
  },
  {
   "cell_type": "code",
   "execution_count": 14,
   "id": "44b0baa1",
   "metadata": {},
   "outputs": [],
   "source": [
    "# Q- find the pair of two number from given list is equal to the value of k.\n",
    "\n",
    "List=[1,2,3,5,4,58,22,95,967,45,896]\n",
    "k=50"
   ]
  },
  {
   "cell_type": "code",
   "execution_count": 15,
   "id": "2d6589a4",
   "metadata": {},
   "outputs": [
    {
     "name": "stdout",
     "output_type": "stream",
     "text": [
      "addition of 5 and 45 is equal to 50\n",
      "thanks\n"
     ]
    }
   ],
   "source": [
    "n=len(List)\n",
    "for i in range(n):\n",
    "    for j in range(i+1,n):\n",
    "        if (List[i]+List[j])==k:\n",
    "            print(\"addition of {} and {} is equal to {}\".format(List[i],List[j],k))\n",
    "        else:\n",
    "            pass\n",
    "print('thanks')\n"
   ]
  },
  {
   "cell_type": "code",
   "execution_count": null,
   "id": "e71de737",
   "metadata": {},
   "outputs": [],
   "source": []
  },
  {
   "cell_type": "code",
   "execution_count": 17,
   "id": "30b98b25",
   "metadata": {},
   "outputs": [],
   "source": [
    "Dict={100:'Apple', 102:'Banana', 103:'cake', 101:'Dog'} # Q- sort this dict"
   ]
  },
  {
   "cell_type": "code",
   "execution_count": 30,
   "id": "4554e131",
   "metadata": {},
   "outputs": [
    {
     "name": "stdout",
     "output_type": "stream",
     "text": [
      "[100, 101, 102, 103]\n",
      "{100: 'Apple', 101: 'Dog', 102: 'Banana', 103: 'cake'}\n"
     ]
    }
   ],
   "source": [
    "Dict2={}\n",
    "K=list(Dict.keys())\n",
    "K.sort()\n",
    "print(K)\n",
    "for i in K:\n",
    "    Dict2[i]=Dict[i]\n",
    "print(Dict2)"
   ]
  },
  {
   "cell_type": "code",
   "execution_count": null,
   "id": "8a3a728a",
   "metadata": {},
   "outputs": [],
   "source": []
  },
  {
   "cell_type": "code",
   "execution_count": 39,
   "id": "79a8bb26",
   "metadata": {},
   "outputs": [
    {
     "name": "stdout",
     "output_type": "stream",
     "text": [
      "enter name  level\n",
      "level is penlindrome \n"
     ]
    }
   ],
   "source": [
    "letter = input(\"enter name  \").lower()\n",
    "\n",
    "def pelindrome(n):\n",
    "    if letter[::-1]==letter:\n",
    "        print(f\"{letter} is penlindrome \")\n",
    "    else :\n",
    "        print (f\"{letter} is not penlindrome\")\n",
    "        \n",
    "pelindrome(letter)"
   ]
  },
  {
   "cell_type": "code",
   "execution_count": null,
   "id": "2fdd8875",
   "metadata": {},
   "outputs": [],
   "source": []
  },
  {
   "cell_type": "code",
   "execution_count": 44,
   "id": "cf54d947",
   "metadata": {},
   "outputs": [
    {
     "name": "stdout",
     "output_type": "stream",
     "text": [
      "enter the string  Nitin\n",
      "nitin is penlindrome \n"
     ]
    }
   ],
   "source": [
    "S= input('enter the string  ').lower()\n",
    "l=len(S)\n",
    "x=0\n",
    "\n",
    "for i in range(l):\n",
    "    if S[i] != S[l-i-1]:\n",
    "        x=1\n",
    "        break\n",
    "if x==0 :\n",
    "    print(f\"{S} is penlindrome \")\n",
    "else:\n",
    "    print (f\"{S} is not penlindrome\")"
   ]
  },
  {
   "cell_type": "code",
   "execution_count": null,
   "id": "e75b9468",
   "metadata": {},
   "outputs": [],
   "source": []
  }
 ],
 "metadata": {
  "kernelspec": {
   "display_name": "Python 3 (ipykernel)",
   "language": "python",
   "name": "python3"
  },
  "language_info": {
   "codemirror_mode": {
    "name": "ipython",
    "version": 3
   },
   "file_extension": ".py",
   "mimetype": "text/x-python",
   "name": "python",
   "nbconvert_exporter": "python",
   "pygments_lexer": "ipython3",
   "version": "3.9.12"
  }
 },
 "nbformat": 4,
 "nbformat_minor": 5
}
