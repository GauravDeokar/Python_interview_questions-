{
 "cells": [
  {
   "cell_type": "code",
   "execution_count": 1,
   "id": "84c63240",
   "metadata": {},
   "outputs": [],
   "source": [
    "py_tuple = ('admin','admin@123')"
   ]
  },
  {
   "cell_type": "code",
   "execution_count": 2,
   "id": "d0a49c83",
   "metadata": {},
   "outputs": [
    {
     "data": {
      "text/plain": [
       "('admin', 'admin@123')"
      ]
     },
     "execution_count": 2,
     "metadata": {},
     "output_type": "execute_result"
    }
   ],
   "source": [
    "py_tuple"
   ]
  },
  {
   "cell_type": "code",
   "execution_count": 3,
   "id": "2a260654",
   "metadata": {},
   "outputs": [
    {
     "ename": "AttributeError",
     "evalue": "'tuple' object has no attribute 'insert'",
     "output_type": "error",
     "traceback": [
      "\u001b[1;31m---------------------------------------------------------------------------\u001b[0m",
      "\u001b[1;31mAttributeError\u001b[0m                            Traceback (most recent call last)",
      "Input \u001b[1;32mIn [3]\u001b[0m, in \u001b[0;36m<cell line: 1>\u001b[1;34m()\u001b[0m\n\u001b[1;32m----> 1\u001b[0m \u001b[43mpy_tuple\u001b[49m\u001b[38;5;241;43m.\u001b[39;49m\u001b[43minsert\u001b[49m(\u001b[38;5;241m2\u001b[39m,\u001b[38;5;241m100\u001b[39m)\n",
      "\u001b[1;31mAttributeError\u001b[0m: 'tuple' object has no attribute 'insert'"
     ]
    }
   ],
   "source": [
    "py_tuple.insert(2,100)"
   ]
  },
  {
   "cell_type": "code",
   "execution_count": 4,
   "id": "ceb1af48",
   "metadata": {},
   "outputs": [
    {
     "data": {
      "text/plain": [
       "('admin', 'admin@123')"
      ]
     },
     "execution_count": 4,
     "metadata": {},
     "output_type": "execute_result"
    }
   ],
   "source": [
    "py_tuple"
   ]
  },
  {
   "cell_type": "code",
   "execution_count": null,
   "id": "4bc9046e",
   "metadata": {},
   "outputs": [],
   "source": [
    "covert tuple --> list --> update --> tuple -- TypeCasting"
   ]
  },
  {
   "cell_type": "code",
   "execution_count": 5,
   "id": "34d6ea61",
   "metadata": {},
   "outputs": [],
   "source": [
    "p = (12,53,12,654,'Python')"
   ]
  },
  {
   "cell_type": "code",
   "execution_count": 6,
   "id": "b28a5269",
   "metadata": {},
   "outputs": [
    {
     "data": {
      "text/plain": [
       "(12, 53, 12, 654, 'Python')"
      ]
     },
     "execution_count": 6,
     "metadata": {},
     "output_type": "execute_result"
    }
   ],
   "source": [
    "p"
   ]
  },
  {
   "cell_type": "code",
   "execution_count": 7,
   "id": "7c203abe",
   "metadata": {},
   "outputs": [
    {
     "data": {
      "text/plain": [
       "tuple"
      ]
     },
     "execution_count": 7,
     "metadata": {},
     "output_type": "execute_result"
    }
   ],
   "source": [
    "type(p)"
   ]
  },
  {
   "cell_type": "code",
   "execution_count": 8,
   "id": "86615b82",
   "metadata": {},
   "outputs": [
    {
     "data": {
      "text/plain": [
       "2"
      ]
     },
     "execution_count": 8,
     "metadata": {},
     "output_type": "execute_result"
    }
   ],
   "source": [
    "p.count(12)"
   ]
  },
  {
   "cell_type": "code",
   "execution_count": 9,
   "id": "b8fb9421",
   "metadata": {},
   "outputs": [
    {
     "data": {
      "text/plain": [
       "4"
      ]
     },
     "execution_count": 9,
     "metadata": {},
     "output_type": "execute_result"
    }
   ],
   "source": [
    "p.index('Python')"
   ]
  },
  {
   "cell_type": "code",
   "execution_count": null,
   "id": "56b06e4c",
   "metadata": {},
   "outputs": [],
   "source": [
    "IMP:\n",
    "    10 , 15 25 \n",
    "    \n",
    "    1.list and tuple\n",
    "    2.can we define list inside tuple ? -- YES - Property remain same\n",
    "    3.can we define tuple inside list ? -- YES - Property remain same\n",
    "    4.list vs tuple"
   ]
  },
  {
   "cell_type": "code",
   "execution_count": 10,
   "id": "16f244ff",
   "metadata": {},
   "outputs": [],
   "source": [
    "p1 = [34,87,23,786,34,75,('Python',100,200),450,960]"
   ]
  },
  {
   "cell_type": "code",
   "execution_count": 11,
   "id": "b9e1ec40",
   "metadata": {},
   "outputs": [
    {
     "data": {
      "text/plain": [
       "[34, 87, 23, 786, 34, 75, ('Python', 100, 200), 450, 960]"
      ]
     },
     "execution_count": 11,
     "metadata": {},
     "output_type": "execute_result"
    }
   ],
   "source": [
    "p1"
   ]
  },
  {
   "cell_type": "code",
   "execution_count": 13,
   "id": "c8edc44e",
   "metadata": {},
   "outputs": [
    {
     "ename": "AttributeError",
     "evalue": "'tuple' object has no attribute 'append'",
     "output_type": "error",
     "traceback": [
      "\u001b[1;31m---------------------------------------------------------------------------\u001b[0m",
      "\u001b[1;31mAttributeError\u001b[0m                            Traceback (most recent call last)",
      "Input \u001b[1;32mIn [13]\u001b[0m, in \u001b[0;36m<cell line: 1>\u001b[1;34m()\u001b[0m\n\u001b[1;32m----> 1\u001b[0m \u001b[43mp1\u001b[49m\u001b[43m[\u001b[49m\u001b[38;5;241;43m6\u001b[39;49m\u001b[43m]\u001b[49m\u001b[38;5;241;43m.\u001b[39;49m\u001b[43mappend\u001b[49m(\u001b[38;5;241m450\u001b[39m)\n",
      "\u001b[1;31mAttributeError\u001b[0m: 'tuple' object has no attribute 'append'"
     ]
    }
   ],
   "source": [
    "p1[6].append(450)"
   ]
  },
  {
   "cell_type": "code",
   "execution_count": 14,
   "id": "92056202",
   "metadata": {},
   "outputs": [],
   "source": [
    "t1 = (12,64,23,64,2,['java','ML','DL',45464,11],45)"
   ]
  },
  {
   "cell_type": "code",
   "execution_count": 15,
   "id": "aa7a465a",
   "metadata": {},
   "outputs": [
    {
     "data": {
      "text/plain": [
       "(12, 64, 23, 64, 2, ['java', 'ML', 'DL', 45464, 11], 45)"
      ]
     },
     "execution_count": 15,
     "metadata": {},
     "output_type": "execute_result"
    }
   ],
   "source": [
    "t1"
   ]
  },
  {
   "cell_type": "code",
   "execution_count": 17,
   "id": "b598bbb2",
   "metadata": {},
   "outputs": [],
   "source": [
    "t1[5].append(7979)"
   ]
  },
  {
   "cell_type": "code",
   "execution_count": 18,
   "id": "2eef185b",
   "metadata": {},
   "outputs": [
    {
     "data": {
      "text/plain": [
       "(12, 64, 23, 64, 2, ['java', 'ML', 'DL', 45464, 11, 7979], 45)"
      ]
     },
     "execution_count": 18,
     "metadata": {},
     "output_type": "execute_result"
    }
   ],
   "source": [
    "t1"
   ]
  },
  {
   "cell_type": "code",
   "execution_count": null,
   "id": "95397e28",
   "metadata": {},
   "outputs": [],
   "source": [
    "list:\n",
    "it is mutable\n",
    "list slower than tuple\n",
    "because it consume more memory -- fixed+variable\n",
    "\n",
    "tuple:\n",
    "it is immutable\n",
    "tuple is faster than list"
   ]
  }
 ],
 "metadata": {
  "kernelspec": {
   "display_name": "Python 3 (ipykernel)",
   "language": "python",
   "name": "python3"
  },
  "language_info": {
   "codemirror_mode": {
    "name": "ipython",
    "version": 3
   },
   "file_extension": ".py",
   "mimetype": "text/x-python",
   "name": "python",
   "nbconvert_exporter": "python",
   "pygments_lexer": "ipython3",
   "version": "3.9.12"
  }
 },
 "nbformat": 4,
 "nbformat_minor": 5
}
